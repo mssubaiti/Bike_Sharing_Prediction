{
 "cells": [
  {
   "cell_type": "markdown",
   "metadata": {},
   "source": [
    "# TEAM C - Bike Sharing Prediction\n",
    "\n",
    "## Content:\n",
    "1. [Loading data](#load)\n",
    "2. [Exploratory Data Analysis](#eda)\n",
    "    1. [Data visualisation](#vis)\n",
    "    2. [Duplicates](#duplicates)\n",
    "    3. [Data correctness](#correctness)\n",
    "    4. [Outliers](#outlier)\n",
    "    5. [Correlations](#corr)\n",
    "3. [Machine Learning (Predictive Analytics)](#ml)\n",
    "    1. [Linear model: ElasticNet](#linear)\n",
    "    2. [Tree-based model: Decision Tree](#tree)\n",
    "    3. [Tree-based model: Random Forest](#forest)\n",
    "    5. [Iterations: Random Forest](#iteration)\n",
    "4. [Work description](#work)"
   ]
  },
  {
   "cell_type": "markdown",
   "metadata": {},
   "source": [
    "## Loading data and libraries <a id=load>"
   ]
  },
  {
   "cell_type": "code",
   "execution_count": 1,
   "metadata": {},
   "outputs": [],
   "source": [
    "import os\n",
    "\n",
    "import pandas as pd\n",
    "import numpy as np\n",
    "\n",
    "import matplotlib.pyplot as plt\n",
    "import seaborn as sns\n",
    "\n",
    "import datetime as dt\n",
    "from joblib import dump, load\n",
    "\n",
    "from sklearn.preprocessing import PolynomialFeatures, MinMaxScaler\n",
    "from sklearn.linear_model import ElasticNetCV\n",
    "from sklearn.tree import DecisionTreeRegressor\n",
    "from sklearn.ensemble import RandomForestRegressor\n",
    "from sklearn.model_selection import GridSearchCV\n",
    "from sklearn.metrics import mean_squared_error as mse\n",
    "from sklearn.pipeline import Pipeline\n",
    "\n",
    "from custom_transformations import AddNewFeatures, DropColumns, Dummification"
   ]
  },
  {
   "cell_type": "code",
   "execution_count": 2,
   "metadata": {},
   "outputs": [],
   "source": [
    "path = 'bike-sharing-dataset'\n",
    "hour = pd.read_csv(os.path.join(path, 'hour.csv'))\n",
    "\n",
    "# changing dtypes of columns\n",
    "hour['dteday'] = pd.to_datetime(hour['dteday'], format='%Y-%m-%d')\n",
    "hour[['season', 'mnth','hr','weekday', 'weathersit']] = hour[['season', 'mnth','hr','weekday', 'weathersit']].astype('object')\n",
    "\n",
    "# setting dteday as index\n",
    "hour.set_index('dteday', inplace=True)\n",
    "\n",
    "# drop ids\n",
    "hour.drop('instant', axis=1, inplace=True)\n",
    "\n",
    "# train and test sets\n",
    "train_hour = hour.loc[:'2012-09-30']\n",
    "test_hour = hour.loc['2012-10-01':]"
   ]
  },
  {
   "cell_type": "markdown",
   "metadata": {},
   "source": [
    "## Exploratory Data Analysis <a id='eda'>"
   ]
  },
  {
   "cell_type": "markdown",
   "metadata": {},
   "source": [
    "### Data visualization <a id='vis'>"
   ]
  },
  {
   "cell_type": "markdown",
   "metadata": {},
   "source": [
    "First, let's print the first 5 rows to see what information we have"
   ]
  },
  {
   "cell_type": "code",
   "execution_count": null,
   "metadata": {},
   "outputs": [],
   "source": [
    "train_hour.head()"
   ]
  },
  {
   "cell_type": "markdown",
   "metadata": {},
   "source": [
    "Some of the values, like \"mnth\", \"hr\" and \"weekday\" that look numerical from the table above are actually categorical in nature. It can't be said that \"hr\" 23 is better than 22 or 1. Hence, we modified those variables to dtype='object'. Let's verify the dtypes of columns:"
   ]
  },
  {
   "cell_type": "code",
   "execution_count": null,
   "metadata": {},
   "outputs": [],
   "source": [
    "train_hour.info()"
   ]
  },
  {
   "cell_type": "markdown",
   "metadata": {},
   "source": [
    "\n",
    "Second, let's print basic statistics of numerical values to understand the distribution of numerical columns. "
   ]
  },
  {
   "cell_type": "code",
   "execution_count": null,
   "metadata": {},
   "outputs": [],
   "source": [
    "train_hour.describe()"
   ]
  },
  {
   "cell_type": "markdown",
   "metadata": {},
   "source": [
    "Third, let's analyze the importance of the categorical features on our target. "
   ]
  },
  {
   "cell_type": "code",
   "execution_count": null,
   "metadata": {},
   "outputs": [],
   "source": [
    "plt.figure(figsize=(15, 3))\n",
    "ax = sns.pointplot(data=train_hour, x='hr', y='cnt', hue='weekday', palette='coolwarm')\n",
    "ax.set(title='Total number of users per hour per weekday')\n",
    "plt.show()"
   ]
  },
  {
   "cell_type": "markdown",
   "metadata": {},
   "source": [
    "#### Comments\n",
    "Seems like Weekdays 0 and 6 have different behavior than other days. Given that this is dataset from US, weekdays 0 and 6 represent Sunday and Saturday respectively. Hence, we can see that weekends differ from working days in terms of daily demand. It might be related to different use cases of bike: during working days people tend to use bikes in the morning from 6 to 9 and evening from 17:00 to 19:00 as if they were using bikes to get to and from work on regular basis. \n",
    "\n",
    "If this hypothesis is true, then we'd expect to see high demand during working days from registered users, while during weekends we would expect more demand from casual users. Let's check this hypothesis by plotting usage per each type of user."
   ]
  },
  {
   "cell_type": "markdown",
   "metadata": {},
   "source": [
    "We see higher demand from casual users during weekend as expected! "
   ]
  },
  {
   "cell_type": "code",
   "execution_count": null,
   "metadata": {},
   "outputs": [],
   "source": [
    "plt.figure(figsize=(15,3))\n",
    "ax = sns.pointplot(data=train_hour, x='hr', y='registered', hue='weekday', palette='coolwarm')\n",
    "ax.set(title = 'Total number of registered users per hour per weekday')\n",
    "plt.show()"
   ]
  },
  {
   "cell_type": "code",
   "execution_count": null,
   "metadata": {},
   "outputs": [],
   "source": [
    "plt.figure(figsize=(15,3))\n",
    "ax = sns.pointplot(data=train_hour, x='hr', y='casual', hue='weekday', palette='coolwarm')\n",
    "ax.set(title = 'Total number of casual users per hour per weekday')\n",
    "plt.show()"
   ]
  },
  {
   "cell_type": "markdown",
   "metadata": {},
   "source": [
    "As we see higher demand from registered users during working days! "
   ]
  },
  {
   "cell_type": "markdown",
   "metadata": {},
   "source": [
    "Forth, let's how usage changes per year and per season. "
   ]
  },
  {
   "cell_type": "code",
   "execution_count": null,
   "metadata": {},
   "outputs": [],
   "source": [
    "plt.figure(figsize=(9, 3))\n",
    "ax = sns.barplot('yr','cnt', hue='season', palette='coolwarm', data=train_hour)\n",
    "ax.set(title='Total count of users per season for each year')\n",
    "plt.show()"
   ]
  },
  {
   "cell_type": "markdown",
   "metadata": {},
   "source": [
    "### Duplicates <a id='duplicates'>"
   ]
  },
  {
   "cell_type": "code",
   "execution_count": null,
   "metadata": {},
   "outputs": [],
   "source": [
    "duplicate_rows = train_hour[train_hour.duplicated()]\n",
    "duplicate_rows"
   ]
  },
  {
   "cell_type": "markdown",
   "metadata": {},
   "source": [
    "Let's drop these duplicate rows"
   ]
  },
  {
   "cell_type": "code",
   "execution_count": 3,
   "metadata": {},
   "outputs": [
    {
     "data": {
      "text/html": [
       "<div>\n",
       "<style scoped>\n",
       "    .dataframe tbody tr th:only-of-type {\n",
       "        vertical-align: middle;\n",
       "    }\n",
       "\n",
       "    .dataframe tbody tr th {\n",
       "        vertical-align: top;\n",
       "    }\n",
       "\n",
       "    .dataframe thead th {\n",
       "        text-align: right;\n",
       "    }\n",
       "</style>\n",
       "<table border=\"1\" class=\"dataframe\">\n",
       "  <thead>\n",
       "    <tr style=\"text-align: right;\">\n",
       "      <th></th>\n",
       "      <th>season</th>\n",
       "      <th>yr</th>\n",
       "      <th>mnth</th>\n",
       "      <th>hr</th>\n",
       "      <th>holiday</th>\n",
       "      <th>weekday</th>\n",
       "      <th>workingday</th>\n",
       "      <th>weathersit</th>\n",
       "      <th>temp</th>\n",
       "      <th>atemp</th>\n",
       "      <th>hum</th>\n",
       "      <th>windspeed</th>\n",
       "      <th>casual</th>\n",
       "      <th>registered</th>\n",
       "      <th>cnt</th>\n",
       "    </tr>\n",
       "    <tr>\n",
       "      <th>dteday</th>\n",
       "      <th></th>\n",
       "      <th></th>\n",
       "      <th></th>\n",
       "      <th></th>\n",
       "      <th></th>\n",
       "      <th></th>\n",
       "      <th></th>\n",
       "      <th></th>\n",
       "      <th></th>\n",
       "      <th></th>\n",
       "      <th></th>\n",
       "      <th></th>\n",
       "      <th></th>\n",
       "      <th></th>\n",
       "      <th></th>\n",
       "    </tr>\n",
       "  </thead>\n",
       "  <tbody>\n",
       "  </tbody>\n",
       "</table>\n",
       "</div>"
      ],
      "text/plain": [
       "Empty DataFrame\n",
       "Columns: [season, yr, mnth, hr, holiday, weekday, workingday, weathersit, temp, atemp, hum, windspeed, casual, registered, cnt]\n",
       "Index: []"
      ]
     },
     "execution_count": 3,
     "metadata": {},
     "output_type": "execute_result"
    }
   ],
   "source": [
    "# Removing duplicates:\n",
    "train_hour = train_hour.drop_duplicates()\n",
    "duplicate_rows = train_hour[train_hour.duplicated()]\n",
    "duplicate_rows"
   ]
  },
  {
   "cell_type": "markdown",
   "metadata": {},
   "source": [
    "### Data Correctness <a id='correctness'>\n",
    "    \n",
    "Let's verify the correctness of values for categorical features by printing all unique values"
   ]
  },
  {
   "cell_type": "code",
   "execution_count": null,
   "metadata": {},
   "outputs": [],
   "source": [
    "print(\"Hour values:\", train_hour['hr'].unique())\n",
    "print('Weekday values:', train_hour['weekday'].unique())\n",
    "print('Month values:', train_hour['mnth'].unique())\n",
    "print('Year values:', train_hour['yr'].unique())\n",
    "print('Season values:', train_hour['season'].unique())\n",
    "print('Weather values:', train_hour['weathersit'].unique())"
   ]
  },
  {
   "cell_type": "markdown",
   "metadata": {},
   "source": [
    "### Outliers <a id='outlier'>"
   ]
  },
  {
   "cell_type": "code",
   "execution_count": null,
   "metadata": {},
   "outputs": [],
   "source": [
    "plt.figure(figsize=(15, 3))\n",
    "ax = sns.boxplot(data = train_hour, x = 'hr', y = 'cnt', whis = 3, showfliers = True)\n",
    "ax.set(title='Distribution of users per each hour (2011-2012)')\n",
    "plt.show()"
   ]
  },
  {
   "cell_type": "markdown",
   "metadata": {},
   "source": [
    "Seems like our dataset contains some outliers. Let's analyze outliers by each year separately. "
   ]
  },
  {
   "cell_type": "code",
   "execution_count": null,
   "metadata": {},
   "outputs": [],
   "source": [
    "plt.figure(figsize=(15, 3))\n",
    "ax = sns.boxplot(data=train_hour.loc['2011'], x='hr', y='cnt', whis=3, showfliers=True)\n",
    "ax.set(title='Distribution of users per each hour in 2011')\n",
    "plt.show()"
   ]
  },
  {
   "cell_type": "code",
   "execution_count": null,
   "metadata": {},
   "outputs": [],
   "source": [
    "plt.figure(figsize=(15, 3))\n",
    "ax = sns.boxplot(data=train_hour.loc['2012'], x='hr', y='cnt', whis=3, showfliers=True)\n",
    "ax.set(title='Distribution of users per each hour in 2012')\n",
    "plt.show()"
   ]
  },
  {
   "cell_type": "markdown",
   "metadata": {},
   "source": [
    "##### TODO: add comments on why we are not removing outliers"
   ]
  },
  {
   "cell_type": "markdown",
   "metadata": {},
   "source": [
    "### Correlations <a id='corr'>"
   ]
  },
  {
   "cell_type": "code",
   "execution_count": null,
   "metadata": {},
   "outputs": [],
   "source": [
    "corr_matrix = train_hour.corr(method = 'spearman')\n",
    "plt.figure(figsize=(10, 10))\n",
    "ax = sns.heatmap(data = corr_matrix, cmap = \"RdBu_r\", annot=True, vmin=-1, vmax=1)\n",
    "ax.set(title='Spearman correlation matrix')\n",
    "plt.show()"
   ]
  },
  {
   "cell_type": "markdown",
   "metadata": {},
   "source": [
    "#### Comments: \n",
    "From this correlation matrix, we can see that \"temp\" and \"atemp\" are highly correlated (0.99): we should either combine them or drop one of it. We also see that \"registered\" and target variable \"cnt\" are highly correlated (0.99)."
   ]
  },
  {
   "cell_type": "markdown",
   "metadata": {},
   "source": [
    "Let's drop \"temp\" from our dataset during training. "
   ]
  },
  {
   "cell_type": "markdown",
   "metadata": {},
   "source": [
    "## Machine Learning (Predictive Analytics) <a id='ml'>"
   ]
  },
  {
   "cell_type": "markdown",
   "metadata": {},
   "source": [
    "### Linear model: ElasticNet <a id='linear'>"
   ]
  },
  {
   "cell_type": "markdown",
   "metadata": {},
   "source": [
    "#### Modeling without \"casual\" and \"registered\". "
   ]
  },
  {
   "cell_type": "markdown",
   "metadata": {},
   "source": [
    "Import model from memory (recommended)"
   ]
  },
  {
   "cell_type": "code",
   "execution_count": 7,
   "metadata": {},
   "outputs": [],
   "source": [
    "elasticCV = load('models/linear_model.joblib')\n",
    "\n",
    "# pipeline for transformations\n",
    "pipeline_poly = Pipeline([\n",
    "    ('new_features', AddNewFeatures()),\n",
    "    ('dummy', Dummification()),\n",
    "    ('minmax_scaler', MinMaxScaler()),\n",
    "    ('polynomials', PolynomialFeatures(degree=2))\n",
    "])\n",
    "\n",
    "X = train_hour.drop(['temp','casual', 'registered', 'cnt'], axis=1)\n",
    "\n",
    "pipeline_poly.fit(X);"
   ]
  },
  {
   "cell_type": "markdown",
   "metadata": {},
   "source": [
    "Retrain the model (takes time):"
   ]
  },
  {
   "cell_type": "code",
   "execution_count": null,
   "metadata": {},
   "outputs": [],
   "source": [
    "# pipeline for transformations\n",
    "pipeline_poly = Pipeline([\n",
    "    ('new_features', AddNewFeatures()),\n",
    "    ('dummy', Dummification()),\n",
    "    ('minmax_scaler', MinMaxScaler()),\n",
    "    ('polynomials', PolynomialFeatures(degree=2))\n",
    "])\n",
    "\n",
    "X = train_hour.drop(['temp','casual', 'registered', 'cnt'], axis=1)\n",
    "y = train_hour.cnt\n",
    "\n",
    "# transform the input X\n",
    "X_prep = pipeline_poly.fit_transform(X)\n",
    "\n",
    "# ElasticNet model with various L1_ratio that will find the best alpha hyperparameter using cross-validation = 5\n",
    "elasticCV = ElasticNetCV(l1_ratio = [.7, .9, .95, 1], cv=10, n_jobs=-1, max_iter=2000)\n",
    "\n",
    "# fitting the model\n",
    "elasticCV.fit(X_prep,y)\n",
    "\n",
    "# saving the model to local storage for future retrieval\n",
    "dump(elasticCV, 'models/linear_model.joblib') \n",
    "\n",
    "# printing the R2 score on train set\n",
    "print('R2 (train): ', elasticCV.score(X_prep,y))\n",
    "\n",
    "# printing RMSE score on train set\n",
    "print('RMSE (train): ', np.sqrt(mse(y, elasticCV.predict(X_prep))))\n",
    "\n",
    "# printing best alpha\n",
    "print('alpha regularization: ', elasticCV.alpha_)\n",
    "\n",
    "# printing best L1 ratio\n",
    "print('L1 ratio: ', elasticCV.l1_ratio_)"
   ]
  },
  {
   "cell_type": "markdown",
   "metadata": {},
   "source": [
    "#### Comments\n",
    "The best linear model is given by Lasso (L1 ratio = 1) with alpha regularization of ~0.03: \n",
    "1. R2 (train):  0.92\n",
    "2. RMSE (train):  49.1\n",
    "\n",
    "Let's check the performance on test set"
   ]
  },
  {
   "cell_type": "code",
   "execution_count": 8,
   "metadata": {},
   "outputs": [
    {
     "data": {
      "image/png": "[encoded data removed]",
      "text/plain": [
       "<Figure size 1080x360 with 1 Axes>"
      ]
     },
     "metadata": {
      "needs_background": "light"
     },
     "output_type": "display_data"
    }
   ],
   "source": [
    "X_test = test_hour.drop(['temp', 'casual', 'registered', 'cnt'], axis=1)\n",
    "y_test = test_hour.cnt\n",
    "X_test_prep = pipeline_poly.transform(X_test)\n",
    "y_test_pred = elasticCV.predict(X_test_prep)\n",
    "\n",
    "# plotting residuals\n",
    "residuals = y_test-y_test_pred\n",
    "r2 = round(elasticCV.score(X_test_prep,y_test), 3)\n",
    "rmse = round(np.sqrt(mse(y_test, y_test_pred)), 3)\n",
    "\n",
    "fig, ax = plt.subplots(figsize=(15,5))\n",
    "ax.scatter(y_test, residuals)\n",
    "ax.axhline(lw=2,color='black')\n",
    "ax.set(title=f'Model: Linear Model (w/o casual and registered). R2: {r2}. RMSE: {rmse}', \n",
    "       xlabel='Observed', \n",
    "       ylabel='Residual')\n",
    "plt.show()"
   ]
  },
  {
   "cell_type": "code",
   "execution_count": 25,
   "metadata": {},
   "outputs": [
    {
     "name": "stdout",
     "output_type": "stream",
     "text": [
      "Total number of features after all transformations: 1653\n",
      "Total number of features that were eliminated by Lasso regularization: 1086\n",
      "Total number of features that were used by linear model: 567\n"
     ]
    }
   ],
   "source": [
    "print(f\"Total number of features after all transformations: {elasticCV.coef_.shape[0]}\")\n",
    "print(f\"Total number of features that were eliminated by Lasso regularization: {sum(elasticCV.coef_ == 0)}\")\n",
    "print(f\"Total number of features that were used by linear model: {sum(elasticCV.coef_ != 0)}\")"
   ]
  },
  {
   "cell_type": "markdown",
   "metadata": {},
   "source": [
    "#### Modeling without \"casual\" but with \"registered\". "
   ]
  },
  {
   "cell_type": "markdown",
   "metadata": {},
   "source": [
    "Import model from memory (recommended):"
   ]
  },
  {
   "cell_type": "code",
   "execution_count": 27,
   "metadata": {},
   "outputs": [],
   "source": [
    "elasticCV_registr = load('models/linear_model_registr.joblib')\n",
    "\n",
    "# pipeline for transformations\n",
    "pipeline_poly_registr = Pipeline([\n",
    "    ('new_features', AddNewFeatures()),\n",
    "    ('dummy', Dummification()),\n",
    "    ('minmax_scaler', MinMaxScaler()),\n",
    "    ('polynomials', PolynomialFeatures(degree=2))\n",
    "])\n",
    "\n",
    "X = train_hour.drop(['temp','casual', 'cnt'], axis=1)\n",
    "pipeline_poly_registr.fit(X);"
   ]
  },
  {
   "cell_type": "markdown",
   "metadata": {},
   "source": [
    "Retrain the model (takes time):"
   ]
  },
  {
   "cell_type": "code",
   "execution_count": null,
   "metadata": {},
   "outputs": [],
   "source": [
    "# pipeline for transformations\n",
    "pipeline_poly_registr = Pipeline([\n",
    "    ('new_features', AddNewFeatures()),\n",
    "    ('dummy', Dummification()),\n",
    "    ('minmax_scaler', MinMaxScaler()),\n",
    "    ('polynomials', PolynomialFeatures(degree=2))\n",
    "])\n",
    "\n",
    "X = train_hour.drop(['temp','casual', 'cnt'], axis=1)\n",
    "y = train_hour.cnt\n",
    "\n",
    "# transform the input X\n",
    "X_prep = pipeline_poly_registr.fit_transform(X)\n",
    "\n",
    "# ElasticNet model with various L1_ratio that will find the best alpha hyperparameter using cross-validation = 5\n",
    "elasticCV_registr = ElasticNetCV(l1_ratio = [.7, .9, .95, 1], cv=10, n_jobs=-1)\n",
    "\n",
    "# fitting the model\n",
    "elasticCV_registr.fit(X_prep,y)\n",
    "\n",
    "# saving the model to local storage for future retrieval\n",
    "dump(elasticCV_registr, 'models/linear_model_registr.joblib') \n",
    "\n",
    "# printing the R2 score on train set\n",
    "print('R2 (train): ', elasticCV_registr.score(X_prep,y))\n",
    "\n",
    "# printing RMSE score on train set\n",
    "print('RMSE (train): ', np.sqrt(mse(y, elasticCV_registr.predict(X_prep))))\n",
    "\n",
    "# printing best alpha\n",
    "print('alpha regularization: ', elasticCV_registr.alpha_)\n",
    "\n",
    "# printing best L1 ratio\n",
    "print('L1 ratio: ', elasticCV_registr.l1_ratio_)"
   ]
  },
  {
   "cell_type": "markdown",
   "metadata": {},
   "source": [
    "#### Comments\n",
    "The best linear model is given by Lasso (L1 ratio = 1) with alpha regularization of ~0.03: \n",
    "1. R2 (train):  0.99\n",
    "2. RMSE (train):  17.76\n",
    "\n",
    "Let's check the performance on test set"
   ]
  },
  {
   "cell_type": "code",
   "execution_count": 48,
   "metadata": {},
   "outputs": [
    {
     "data": {
      "image/png": "[encoded data removed]",
      "text/plain": [
       "<Figure size 1080x360 with 1 Axes>"
      ]
     },
     "metadata": {
      "needs_background": "light"
     },
     "output_type": "display_data"
    }
   ],
   "source": [
    "X_test = test_hour.drop(['temp', 'casual', 'cnt'], axis=1)\n",
    "y_test = test_hour.cnt\n",
    "X_test_prep = pipeline_poly_registr.transform(X_test)\n",
    "y_test_pred = elasticCV_registr.predict(X_test_prep)\n",
    "\n",
    "# plotting residuals\n",
    "residuals = y_test-y_test_pred\n",
    "r2 = round(elasticCV_registr.score(X_test_prep,y_test), 3)\n",
    "rmse = round(np.sqrt(mse(y_test, y_test_pred)), 3)\n",
    "\n",
    "fig, ax = plt.subplots(figsize=(15,5))\n",
    "ax.scatter(y_test, residuals)\n",
    "ax.axhline(lw=2,color='black')\n",
    "ax.set(title=f'Model: Linear Model (w/ registered). R2: {r2}. RMSE: {rmse}', \n",
    "       xlabel='Observed', \n",
    "       ylabel='Residual')\n",
    "plt.show()"
   ]
  },
  {
   "cell_type": "code",
   "execution_count": 49,
   "metadata": {},
   "outputs": [
    {
     "name": "stdout",
     "output_type": "stream",
     "text": [
      "Total number of features after all transformations: 1711\n",
      "Total number of features that were eliminated by Lasso regularization: 1476\n",
      "Total number of features that were used by linear model: 235\n"
     ]
    }
   ],
   "source": [
    "print(f\"Total number of features after all transformations: {elasticCV_registr.coef_.shape[0]}\")\n",
    "print(f\"Total number of features that were eliminated by Lasso regularization: {sum(elasticCV_registr.coef_ == 0)}\")\n",
    "print(f\"Total number of features that were used by linear model: {sum(elasticCV_registr.coef_ != 0)}\")"
   ]
  },
  {
   "cell_type": "markdown",
   "metadata": {},
   "source": [
    "#### Final comments\n",
    "\n",
    "Adding 'registered' feature in the training (0.99 correlated with target 'cnt') has significantly increased our performance. "
   ]
  },
  {
   "cell_type": "markdown",
   "metadata": {},
   "source": [
    "### Tree-based model: Decision Tree <a id='tree'>"
   ]
  },
  {
   "cell_type": "markdown",
   "metadata": {},
   "source": [
    "#### Modeling without \"casual\" and \"registered\". "
   ]
  },
  {
   "cell_type": "markdown",
   "metadata": {},
   "source": [
    "Import model from memory (recommended):"
   ]
  },
  {
   "cell_type": "code",
   "execution_count": 51,
   "metadata": {},
   "outputs": [],
   "source": [
    "best_tree = load('models/decision_tree.joblib')\n",
    "\n",
    "# pipeline for transformations\n",
    "pipeline_tree = Pipeline([\n",
    "    ('new_features', AddNewFeatures()),\n",
    "    ('dummy', Dummification())\n",
    "])\n",
    "\n",
    "X = train_hour.drop(['temp','casual', 'registered', 'cnt'], axis=1)\n",
    "\n",
    "pipeline_tree.fit(X);"
   ]
  },
  {
   "cell_type": "markdown",
   "metadata": {},
   "source": [
    "Retrain the model (takes time):"
   ]
  },
  {
   "cell_type": "code",
   "execution_count": null,
   "metadata": {},
   "outputs": [],
   "source": [
    "# pipeline for transformations\n",
    "pipeline_tree = Pipeline([\n",
    "    ('new_features', AddNewFeatures()),\n",
    "    ('dummy', Dummification())\n",
    "])\n",
    "\n",
    "X = train_hour.drop(['temp','casual', 'registered', 'cnt'], axis=1)\n",
    "y = train_hour.cnt\n",
    "\n",
    "# transform the input X\n",
    "X_prep = pipeline_tree.fit_transform(X)\n",
    "\n",
    "# Decision Tree model\n",
    "tree_reg = DecisionTreeRegressor()\n",
    "\n",
    "# GridSearchCV to find the best hyperparameters based on cross-validation\n",
    "param_grid_tree = {\n",
    "    \"min_samples_split\": [2, 10, 20, 40],\n",
    "    \"max_depth\": [10, 20, None],\n",
    "    \"min_samples_leaf\": [1, 20, 40, 100],\n",
    "    \"max_leaf_nodes\": [5, 20, 100, None]\n",
    "}\n",
    "\n",
    "grid_search_tree = GridSearchCV(tree_reg, cv=10, param_grid=param_grid_tree, n_jobs=-1)\n",
    "\n",
    "# fitting the model\n",
    "grid_search_tree.fit(X_prep,y)\n",
    "\n",
    "# saving the model to local storage for future retrieval\n",
    "best_tree = grid_search_tree.best_estimator_\n",
    "dump(best_tree, 'models/decision_tree.joblib') \n",
    "\n",
    "# printing the R2 score on train set\n",
    "print('R2 (train): ', best_tree.score(X_prep,y))\n",
    "\n",
    "# printing RMSE score on train set\n",
    "print('RMSE (train): ', np.sqrt(mse(y, best_tree.predict(X_prep))))\n",
    "\n",
    "# printing top CV results\n",
    "parameters = ['rank_test_score', 'mean_test_score', 'param_max_depth',\n",
    "                    'param_max_leaf_nodes', 'param_min_samples_leaf', 'param_min_samples_split']\n",
    "grid_cv_results_tree = pd.DataFrame(grid_search_tree.cv_results_)[parameters].sort_values('rank_test_score')\n",
    "print('Grid Search CV results: \\n', grid_cv_results_tree.head())"
   ]
  },
  {
   "cell_type": "markdown",
   "metadata": {},
   "source": [
    "#### Comments\n",
    "The Decision Tree model performs better than our linear model:\n",
    "1. R2 (train):  0.92\n",
    "2. RMSE (train):  57.50\n",
    "3. R2 (validation): 0.63\n",
    "\n",
    "However, by comparing with CV results (mean_test_score = R2 of validation), we can see that our model is overfitted. Let's check the performance on test set"
   ]
  },
  {
   "cell_type": "code",
   "execution_count": 52,
   "metadata": {},
   "outputs": [
    {
     "data": {
      "image/png": "[encoded data removed]",
      "text/plain": [
       "<Figure size 1080x360 with 1 Axes>"
      ]
     },
     "metadata": {
      "needs_background": "light"
     },
     "output_type": "display_data"
    }
   ],
   "source": [
    "X_test = test_hour.drop(['temp', 'casual', 'registered', 'cnt'], axis=1)\n",
    "y_test = test_hour.loc[:, 'cnt']\n",
    "X_test_prep = pipeline_tree.transform(X_test)\n",
    "y_test_pred = best_tree.predict(X_test_prep)\n",
    "\n",
    "residuals = y_test-y_test_pred\n",
    "r2 = round(best_tree.score(X_test_prep,y_test), 3)\n",
    "rmse = round(np.sqrt(mse(y_test, y_test_pred)), 3)\n",
    "\n",
    "fig, ax = plt.subplots(figsize=(15,5))\n",
    "ax.scatter(y_test, residuals)\n",
    "ax.axhline(lw=2,color='black')\n",
    "ax.set(title=f'Model: Decision Tree (w/o casual and registered). R2: {r2}. RMSE: {rmse}', \n",
    "       xlabel='Observed', \n",
    "       ylabel='Residual')\n",
    "plt.show()"
   ]
  },
  {
   "cell_type": "markdown",
   "metadata": {},
   "source": [
    "#### Modeling without \"casual\" but with \"registered\"."
   ]
  },
  {
   "cell_type": "markdown",
   "metadata": {},
   "source": [
    "Import model from memory (recommended):"
   ]
  },
  {
   "cell_type": "code",
   "execution_count": 54,
   "metadata": {},
   "outputs": [],
   "source": [
    "best_tree_registr = load('models/decision_tree_registr.joblib')\n",
    "\n",
    "# pipeline for transformations\n",
    "pipeline_tree_registr = Pipeline([\n",
    "    ('new_features', AddNewFeatures()),\n",
    "    ('dummy', Dummification())\n",
    "])\n",
    "\n",
    "X = train_hour.drop(['temp','casual', 'cnt'], axis=1)\n",
    "\n",
    "pipeline_tree_registr.fit(X);"
   ]
  },
  {
   "cell_type": "markdown",
   "metadata": {},
   "source": [
    "Retrain the model (takes time):"
   ]
  },
  {
   "cell_type": "code",
   "execution_count": null,
   "metadata": {},
   "outputs": [],
   "source": [
    "# pipeline for transformations\n",
    "pipeline_tree_registr = Pipeline([\n",
    "    ('new_features', AddNewFeatures()),\n",
    "    ('dummy', Dummification())\n",
    "])\n",
    "\n",
    "X = train_hour.drop(['temp','casual', 'cnt'], axis=1)\n",
    "y = train_hour.cnt\n",
    "\n",
    "# transform the input X\n",
    "X_prep = pipeline_tree_registr.fit_transform(X)\n",
    "\n",
    "# Decision Tree model\n",
    "tree_reg_registr = DecisionTreeRegressor()\n",
    "\n",
    "# GridSearchCV to find the best hyperparameters based on cross-validation\n",
    "param_grid_tree = {\n",
    "    \"min_samples_split\": [2, 10, 20, 40],\n",
    "    \"max_depth\": [10, 20, None],\n",
    "    \"min_samples_leaf\": [1, 20, 40, 100],\n",
    "    \"max_leaf_nodes\": [5, 20, 100, None]\n",
    "}\n",
    "\n",
    "grid_search_tree_registr = GridSearchCV(tree_reg_registr, cv=10, param_grid=param_grid_tree, n_jobs=-1)\n",
    "\n",
    "# fitting the model\n",
    "grid_search_tree_registr.fit(X_prep,y)\n",
    "\n",
    "# saving the model to local storage for future retrieval\n",
    "best_tree_registr = grid_search_tree_registr.best_estimator_\n",
    "dump(best_tree_registr, 'models/decision_tree_registr.joblib') \n",
    "\n",
    "# printing the R2 score on train set\n",
    "print('R2 (train): ', best_tree_registr.score(X_prep,y))\n",
    "\n",
    "# printing RMSE score on train set\n",
    "print('RMSE (train): ', np.sqrt(mse(y, best_tree_registr.predict(X_prep))))\n",
    "\n",
    "# printing top CV results\n",
    "parameters = ['rank_test_score', 'mean_test_score', 'param_max_depth',\n",
    "                    'param_max_leaf_nodes', 'param_min_samples_leaf', 'param_min_samples_split']\n",
    "grid_cv_results_tree = pd.DataFrame(grid_search_tree_registr.cv_results_)[parameters].sort_values('rank_test_score')\n",
    "print('Grid Search CV results: \\n', grid_cv_results_tree.head())"
   ]
  },
  {
   "cell_type": "markdown",
   "metadata": {},
   "source": [
    "#### Comments\n",
    "The Decision Tree model performs better than our linear model:\n",
    "1. R2 (train):  0.99\n",
    "2. RMSE (train):  19.14\n",
    "3. R2 (validation): 0.97\n",
    "\n",
    "R2 on validation is amazing. We suspect including \"registered\" as a feature is a sort of target leakage. Let's check the performance on test set.  "
   ]
  },
  {
   "cell_type": "code",
   "execution_count": 55,
   "metadata": {},
   "outputs": [
    {
     "data": {
      "image/png": "[encoded data removed]",
      "text/plain": [
       "<Figure size 1080x360 with 1 Axes>"
      ]
     },
     "metadata": {
      "needs_background": "light"
     },
     "output_type": "display_data"
    }
   ],
   "source": [
    "X_test = test_hour.drop(['temp', 'casual', 'cnt'], axis=1)\n",
    "y_test = test_hour.loc[:, 'cnt']\n",
    "X_test_prep = pipeline_tree_registr.transform(X_test)\n",
    "y_test_pred = best_tree_registr.predict(X_test_prep)\n",
    "\n",
    "# plotting residuals\n",
    "residuals = y_test-y_test_pred\n",
    "r2 = round(best_tree_registr.score(X_test_prep,y_test), 3)\n",
    "rmse = round(np.sqrt(mse(y_test, y_test_pred)), 3)\n",
    "\n",
    "fig, ax = plt.subplots(figsize=(15,5))\n",
    "ax.scatter(y_test, residuals)\n",
    "ax.axhline(lw=2,color='black')\n",
    "ax.set(title=f'Model: Decision Tree (w/ registered). R2: {r2}. RMSE: {rmse}', \n",
    "       xlabel='Observed', \n",
    "       ylabel='Residual')\n",
    "plt.show()"
   ]
  },
  {
   "cell_type": "markdown",
   "metadata": {},
   "source": [
    "### Tree-based model: Random Forest <a id='forest'>"
   ]
  },
  {
   "cell_type": "markdown",
   "metadata": {},
   "source": [
    "#### Modeling without \"casual\" and \"registered\""
   ]
  },
  {
   "cell_type": "markdown",
   "metadata": {},
   "source": [
    "Import model from memory (recommended):"
   ]
  },
  {
   "cell_type": "code",
   "execution_count": 56,
   "metadata": {},
   "outputs": [],
   "source": [
    "best_rf = load('models/random_forest.joblib')\n",
    "\n",
    "# pipeline for transformations\n",
    "pipeline_forest = Pipeline([\n",
    "    ('new_features', AddNewFeatures()),\n",
    "    ('dummy', Dummification())\n",
    "])\n",
    "\n",
    "X = train_hour.drop(['temp', 'casual', 'registered', 'cnt'], axis=1)\n",
    "\n",
    "pipeline_forest.fit(X);"
   ]
  },
  {
   "cell_type": "markdown",
   "metadata": {},
   "source": [
    "Retrain the model (takes time):"
   ]
  },
  {
   "cell_type": "code",
   "execution_count": null,
   "metadata": {},
   "outputs": [],
   "source": [
    "# pipeline for transformations\n",
    "pipeline_forest = Pipeline([\n",
    "    ('new_features', AddNewFeatures()),\n",
    "    ('dummy', Dummification())\n",
    "])\n",
    "\n",
    "X = train_hour.drop(['temp', 'casual', 'registered', 'cnt'], axis=1)\n",
    "y = train_hour.cnt\n",
    "\n",
    "# transform the input X\n",
    "X_prep = pipeline_forest.fit_transform(X)\n",
    "\n",
    "# Random Forest model\n",
    "rf_reg = RandomForestRegressor()\n",
    "\n",
    "# GridSearchCV to find the best hyperparameters based on cross-validation\n",
    "param_grid_forest = {\n",
    "    \"min_samples_split\": [4,20,100],\n",
    "    \"max_depth\": [10, 25, 50],\n",
    "    \"n_estimators\": [50, 100]}\n",
    "\n",
    "grid_search_forest = GridSearchCV(rf_reg, cv=10, param_grid=param_grid_forest, n_jobs=-1)\n",
    "\n",
    "# fitting the model\n",
    "grid_search_forest.fit(X_prep,y)\n",
    "\n",
    "# saving the model to local storage for future retrieval\n",
    "best_rf = grid_search_forest.best_estimator_\n",
    "dump(best_rf, 'models/random_forest.joblib') \n",
    "\n",
    "# printing the R2 score on train set\n",
    "print('R2 (train): ', best_rf.score(X_prep,y))\n",
    "\n",
    "# printing RMSE score on train set\n",
    "print('RMSE (train): ', np.sqrt(mse(y, best_rf.predict(X_prep))))\n",
    "\n",
    "# printing top CV results\n",
    "parameters = ['rank_test_score', 'mean_test_score', 'param_max_depth',\n",
    "              'param_n_estimators', 'param_min_samples_split']\n",
    "grid_cv_results_forest = pd.DataFrame(grid_search_forest.cv_results_)[parameters].sort_values('rank_test_score')\n",
    "print('CV results: \\n', grid_cv_results_forest.head())"
   ]
  },
  {
   "cell_type": "markdown",
   "metadata": {},
   "source": [
    "#### Comments\n",
    "The Random Forest model performs even better than our Decision Tree model:\n",
    "1. R2 (train):  ~0.98\n",
    "2. RMSE (train):  ~21\n",
    "3. R2 (validation): ~0.74\n",
    "\n",
    "However, by comparing with CV results (mean_test_score = R2 of validation), we can see that our model is also overfitted.\n",
    "\n",
    "Given that Random Forest performs better than Decision Tree, let's continue iterating with this algorithm and try to fix overfitting problem. \n",
    "There are several ways to do that:\n",
    "1. Adding more training data\n",
    "2. Adding more regularization (hyperparameters tuning)\n",
    "3. Reducing number of features. \n",
    "\n",
    "Since we cannot add training data and we are already using cross-validation to find the best hyperparameters, let's try to fix overfitting by reducing number of features. We have created some features before and now it is time to check if those are significant."
   ]
  },
  {
   "cell_type": "markdown",
   "metadata": {},
   "source": [
    "#### Feature importance"
   ]
  },
  {
   "cell_type": "code",
   "execution_count": 57,
   "metadata": {},
   "outputs": [
    {
     "data": {
      "image/png": "[encoded data removed]",
      "text/plain": [
       "<Figure size 1080x720 with 1 Axes>"
      ]
     },
     "metadata": {
      "needs_background": "light"
     },
     "output_type": "display_data"
    }
   ],
   "source": [
    "transformation = Pipeline([\n",
    "    ('new_features', AddNewFeatures()),\n",
    "    ('dummy', Dummification())\n",
    "])\n",
    "\n",
    "X = train_hour.drop(['temp','casual', 'registered', 'cnt'], axis=1)\n",
    "X_transformed = transformation.fit_transform(X)\n",
    "\n",
    "feature_names = X_transformed.columns\n",
    "feature_importance = pd.DataFrame({'importance': best_rf.feature_importances_}, index=feature_names).sort_values('importance')\n",
    "feature_importance.plot.barh(y='importance', figsize=(15,10), title='Feature Importance by Random Forest')\n",
    "plt.show()"
   ]
  },
  {
   "cell_type": "markdown",
   "metadata": {},
   "source": [
    "### Iterations: Random Forest <a id='iteration'>"
   ]
  },
  {
   "cell_type": "markdown",
   "metadata": {},
   "source": [
    "#### Iterations: \n",
    "1. TBD\n",
    "\n",
    "Any iterations with features to drop and/or not to include make our model worse both in terms of R2 and RMSE. The code below allows to play with iterations. \n",
    "\n",
    "Transformations that should be used for iterating with variables are <strong>AddNewFeatures()</strong> and <strong>DropColumns()</strong>. Original features can be dropped using <strong>DropColumns(feature=True)</strong>, while newly generated features should be excluded by <strong>AddNewFeatures(feature=False). "
   ]
  },
  {
   "cell_type": "markdown",
   "metadata": {},
   "source": [
    "#### Model"
   ]
  },
  {
   "cell_type": "code",
   "execution_count": null,
   "metadata": {},
   "outputs": [],
   "source": [
    "# pipeline for transformation\n",
    "pipeline_forest_iter = Pipeline([\n",
    "    ('new_features', AddNewFeatures()),\n",
    "    ('drop_cols', DropColumns(holiday=True)),\n",
    "    ('dummy', Dummification())\n",
    "])\n",
    "\n",
    "X = train_hour.drop(['temp','casual', 'registered', 'cnt'], axis=1)\n",
    "y = train_hour.cnt\n",
    "\n",
    "# transform the input X\n",
    "X_prep = pipeline_forest_iter.fit_transform(X)\n",
    "\n",
    "# Random Forest model\n",
    "rf_reg_iter = RandomForestRegressor()\n",
    "\n",
    "# GridSearchCV to find the best hyperparameters based on cross-validation\n",
    "param_grid_forest_iter = {\n",
    "    \"min_samples_split\": [4,20,100],\n",
    "    \"max_depth\": [10, 25, 50],\n",
    "    \"n_estimators\": [50, 100]}\n",
    "\n",
    "grid_search_forest_iter = GridSearchCV(rf_reg_iter, cv=10, param_grid=param_grid_forest_iter, n_jobs=-1)\n",
    "\n",
    "# fitting the model\n",
    "grid_search_forest_iter.fit(X_prep,y)\n",
    "\n",
    "# printing the R2 score on train set\n",
    "print('R2 (train): ', grid_search_forest_iter.best_estimator_.score(X_prep,y))\n",
    "\n",
    "# printing RMSE score on train set\n",
    "print('RMSE (train): ', np.sqrt(mse(y, grid_search_forest_iter.predict(X_prep))))\n",
    "\n",
    "# printing top CV results\n",
    "parameters = ['rank_test_score', 'mean_test_score', 'param_max_depth',\n",
    "              'param_n_estimators', 'param_min_samples_split']\n",
    "grid_cv_results_forest_iter = pd.DataFrame(grid_search_forest_iter.cv_results_)[parameters].sort_values('rank_test_score')\n",
    "print('CV results: \\n', grid_cv_results_forest_iter.head())"
   ]
  },
  {
   "cell_type": "markdown",
   "metadata": {},
   "source": [
    "#### Feature Importance"
   ]
  },
  {
   "cell_type": "code",
   "execution_count": null,
   "metadata": {},
   "outputs": [],
   "source": [
    "best_rf_iter = grid_search_forest_iter.best_estimator_\n",
    "\n",
    "transformation_iter = Pipeline([\n",
    "    ('new_features', AddNewFeatures()),\n",
    "    ('drop_cols', DropColumns(holiday=True)),\n",
    "    ('dummy', Dummification())\n",
    "])\n",
    "\n",
    "X = train_hour.drop(['temp','casual', 'registered', 'cnt'], axis=1)\n",
    "X_transformed = transformation_iter.fit_transform(X)\n",
    "\n",
    "feature_names = X_transformed.columns\n",
    "feature_importance = pd.DataFrame({'importance': best_rf_iter.feature_importances_}, index=feature_names).sort_values('importance')\n",
    "feature_importance.plot.barh(y='importance', figsize=(15,10), title='Feature Importance by Random Forest (iteration)')\n",
    "plt.show()"
   ]
  },
  {
   "cell_type": "markdown",
   "metadata": {},
   "source": [
    "#### Performance on test set"
   ]
  },
  {
   "cell_type": "code",
   "execution_count": null,
   "metadata": {},
   "outputs": [],
   "source": [
    "best_rf_iter = grid_search_forest_iter.best_estimator_\n",
    "\n",
    "X_test = test_hour.drop(['temp','casual', 'registered', 'cnt'], axis=1)\n",
    "y_test = test_hour.loc[:, 'cnt']\n",
    "X_test_prep = pipeline_forest_iter.transform(X_test)\n",
    "\n",
    "# printing the R2 score on test set\n",
    "print('R2 (test): ', best_rf_iter.score(X_test_prep,y_test))\n",
    "\n",
    "# printing RMSE score on test set\n",
    "print('RMSE (test): ', np.sqrt(mse(y_test, best_rf_iter.predict(X_test_prep))))"
   ]
  },
  {
   "cell_type": "markdown",
   "metadata": {},
   "source": [
    "## Work description <a id='work'>"
   ]
  },
  {
   "cell_type": "code",
   "execution_count": null,
   "metadata": {},
   "outputs": [],
   "source": []
  }
 ],
 "metadata": {
  "kernelspec": {
   "display_name": "Python 3",
   "language": "python",
   "name": "python3"
  },
  "language_info": {
   "codemirror_mode": {
    "name": "ipython",
    "version": 3
   },
   "file_extension": ".py",
   "mimetype": "text/x-python",
   "name": "python",
   "nbconvert_exporter": "python",
   "pygments_lexer": "ipython3",
   "version": "3.7.3"
  }
 },
 "nbformat": 4,
 "nbformat_minor": 4
}
